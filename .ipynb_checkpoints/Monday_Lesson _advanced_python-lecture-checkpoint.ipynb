{
 "cells": [
  {
   "cell_type": "markdown",
   "metadata": {},
   "source": [
    "# Advanced Object-Oriented-Programming (OOP)"
   ]
  },
  {
   "cell_type": "markdown",
   "metadata": {},
   "source": [
    "## Tasks Today:\n",
    "\n",
    "1) <b>Creating Multiple Instances Through Loops</b> <br>\n",
    " &nbsp;&nbsp;&nbsp;&nbsp; a) Using Loops <br>\n",
    " &nbsp;&nbsp;&nbsp;&nbsp; b) Using Multiple Lists with Loops <br>\n",
    " &nbsp;&nbsp;&nbsp;&nbsp; c) Using List Comprehension with Classes<br>\n",
    " &nbsp;&nbsp;&nbsp;&nbsp; d) In-Class Exercise #1 <br>\n",
    "2) <b>Magic Methods</b> <br>\n",
    " &nbsp;&nbsp;&nbsp;&nbsp; a) \\__str\\__ <br>\n",
    " &nbsp;&nbsp;&nbsp;&nbsp; b) \\__add\\__ <br>\n",
    " &nbsp;&nbsp;&nbsp;&nbsp; c) Overriding Magic Methods <br>\n",
    " &nbsp;&nbsp;&nbsp;&nbsp; d) In-Class Exercise #2 <br>\n",
    "3) <b>Inheritance & Method Overriding (recap)</b> <br>\n",
    " &nbsp;&nbsp;&nbsp;&nbsp; a) Inheriting (recap)  <br>\n",
    " &nbsp;&nbsp;&nbsp;&nbsp; b) Overriding Inherited Magic Methods <br>\n",
    " &nbsp;&nbsp;&nbsp;&nbsp; c) Inheriting Multiple Classes <br>\n",
    " &nbsp;&nbsp;&nbsp;&nbsp; d) In-Class Exercise #3 <br>"
   ]
  },
  {
   "cell_type": "markdown",
   "metadata": {},
   "source": [
    "## Creating Multiple Instances Through Loops <br>\n",
    "<p>We can use loops to create multiple instances of a single object in just a couple of lines, even just one line.</p>"
   ]
  },
  {
   "cell_type": "markdown",
   "metadata": {},
   "source": [
    "#### Using Loops"
   ]
  },
  {
   "cell_type": "code",
   "execution_count": 3,
   "metadata": {},
   "outputs": [
    {
     "name": "stdout",
     "output_type": "stream",
     "text": [
      "Max has 0 legs\n",
      "Max has 1 legs\n",
      "Max has 2 legs\n",
      "Max has 3 legs\n",
      "Max has 4 legs\n"
     ]
    }
   ],
   "source": [
    "class Dog():\n",
    "    def __init__(self,name,legs):\n",
    "        self.name = name\n",
    "        self.legs = legs\n",
    "        \n",
    "    def printInfo(self):\n",
    "        print(\"{} has {} legs\".format(self.name,self.legs))\n",
    "        \n",
    "dog1 = Dog(\"Lassie\", 4)\n",
    "dog2 = Dog(\"Max\",4)\n",
    "\n",
    "dogs = []\n",
    "\n",
    "for i in range(5):\n",
    "    dogs.append(Dog(\"Max\",i))\n",
    "\n",
    "for i in range(len(dogs)):\n",
    "    dogs[i].printInfo()"
   ]
  },
  {
   "cell_type": "markdown",
   "metadata": {},
   "source": [
    "#### Using Multiple Lists with Loops"
   ]
  },
  {
   "cell_type": "code",
   "execution_count": 4,
   "metadata": {},
   "outputs": [
    {
     "name": "stdout",
     "output_type": "stream",
     "text": [
      "Max has 4 legs\n",
      "Sam has 4 legs\n",
      "Clifford has 4 legs\n",
      "Lassie has 4 legs\n",
      "Butch has 4 legs\n"
     ]
    }
   ],
   "source": [
    "names = [\"Max\",\"Sam\",\"Clifford\",\"Lassie\",\"Butch\"]\n",
    "dogs = []\n",
    "\n",
    "for i in range(len(names)):\n",
    "    dogs.append(Dog(names[i],4))\n",
    "    \n",
    "for i in range(len(dogs)):\n",
    "    dogs[i].printInfo()"
   ]
  },
  {
   "cell_type": "markdown",
   "metadata": {},
   "source": [
    "#### Using List Comprehension with Classes"
   ]
  },
  {
   "cell_type": "code",
   "execution_count": 5,
   "metadata": {},
   "outputs": [
    {
     "name": "stdout",
     "output_type": "stream",
     "text": [
      "Max has 4 legs\n",
      "Sam has 4 legs\n",
      "Clifford has 4 legs\n",
      "Lassie has 4 legs\n",
      "Butch has 4 legs\n"
     ]
    }
   ],
   "source": [
    "dogs = [Dog(names[i],4) for i in range(len(names))]\n",
    "\n",
    "for dog in dogs:\n",
    "    dog.printInfo()"
   ]
  },
  {
   "cell_type": "markdown",
   "metadata": {},
   "source": [
    "#### In-Class Exercise #1 - Use List Comprehension to create multiple 'Dog' objects using the lists below... <br>\n",
    "<p>names = ['max', 'lassy', 'sammi']<br>colors=['brown', 'black', 'mix']</p>"
   ]
  },
  {
   "cell_type": "code",
   "execution_count": 15,
   "metadata": {},
   "outputs": [
    {
     "name": "stdout",
     "output_type": "stream",
     "text": [
      "max is brown\n",
      "lassy is black\n",
      "sammi is mix\n"
     ]
    }
   ],
   "source": [
    " names = [\"max\", \"lassy\", \"sammi\"]\n",
    "colors=[\"brown\", \"black\", \"mix\"]\n",
    "\n",
    "\n",
    "class Dog():\n",
    "    def __init__(self,name,colors):\n",
    "        self.name = name\n",
    "        self.colors = colors\n",
    "     \n",
    "    def printInfo(self):\n",
    "        print(\"{} is {}\".format(self.name,self.colors))   \n",
    "        \n",
    "        \n",
    "dogs = [Dog(names[i], colors[i]) for i in range(len(names))]\n",
    "\n",
    "for dog in dogs:\n",
    "    dog.printInfo()"
   ]
  },
  {
   "cell_type": "markdown",
   "metadata": {},
   "source": [
    "## Magic Methods <br>\n",
    "<p>Magic methods are any method that begins and ends with two underscores... You've already seen one of them in __init__(). Magic methods are the general functionality of an object, and you have the ability to overwrite what those methods do, giving you flexibility in your program.</p>"
   ]
  },
  {
   "cell_type": "markdown",
   "metadata": {},
   "source": [
    "#### \\__str\\__ <br>\n",
    "<p>This is the output of an object when you print the object itself.</p>"
   ]
  },
  {
   "cell_type": "code",
   "execution_count": 17,
   "metadata": {},
   "outputs": [
    {
     "name": "stdout",
     "output_type": "stream",
     "text": [
      "jack is 27 years old and has 10 many toes\n"
     ]
    }
   ],
   "source": [
    "class Person():\n",
    "    def __init__(self,name,age,number_of_toes):\n",
    "        self.name = name\n",
    "        self.age = age\n",
    "        self.number_of_toes = number_of_toes\n",
    "        \n",
    "    def __str__(self):\n",
    "        return \"{} is {} years old and has {} many toes\".format(self.name, self.age, self.number_of_toes)\n",
    "    \n",
    "jack = Person(\"jack\",27,10)\n",
    "print(jack)"
   ]
  },
  {
   "cell_type": "markdown",
   "metadata": {},
   "source": [
    "#### \\__add\\__"
   ]
  },
  {
   "cell_type": "code",
   "execution_count": 21,
   "metadata": {},
   "outputs": [
    {
     "name": "stdout",
     "output_type": "stream",
     "text": [
      "8\n"
     ]
    }
   ],
   "source": [
    "class Dog():\n",
    "    def __init__(self,name,color,legs):\n",
    "        self.name = name\n",
    "        self.color = color\n",
    "        self.legs = legs\n",
    "    \n",
    "    #Override the __add__ magic method\n",
    "    def __add__(self,extra_number_legs):\n",
    "        if type(extra_number_legs) != int:\n",
    "            return self.legs + extra_number_legs.legs\n",
    "        else:\n",
    "            return self.legs + extra_number_legs\n",
    "    #The original __add__ works like this:\n",
    "    #a + b = a.__add__(b)\n",
    "    \n",
    "dog1 = Dog(\"max\",\"mixed\",4)\n",
    "dog2 = Dog(\"Lassy\",\"Black\",4)\n",
    "    \n",
    "num_legs = dog2 + dog1\n",
    "print(num_legs)    \n",
    "    \n",
    "    "
   ]
  },
  {
   "cell_type": "markdown",
   "metadata": {},
   "source": [
    "#### Overriding Magic Methods"
   ]
  },
  {
   "cell_type": "code",
   "execution_count": null,
   "metadata": {},
   "outputs": [],
   "source": [
    "# see above"
   ]
  },
  {
   "cell_type": "markdown",
   "metadata": {},
   "source": [
    "#### In-Class Exercise #2 - Google another magic method and overwrite it's functionality..."
   ]
  },
  {
   "cell_type": "code",
   "execution_count": 22,
   "metadata": {},
   "outputs": [
    {
     "name": "stdout",
     "output_type": "stream",
     "text": [
      "True\n"
     ]
    }
   ],
   "source": [
    "class Dog():\n",
    "    def __init__(self,name,color,legs):\n",
    "        self.name = name\n",
    "        self.color = name\n",
    "        self.legs = names\n",
    "        \n",
    "    def __eq__(self,extra):\n",
    "        if self.legs == extra.legs:\n",
    "            return True\n",
    "        else:\n",
    "            return False\n",
    "        \n",
    "dog1 = Dog(\"Max\", \"Mixed\",4)\n",
    "dog2 = Dog(\"Max\",\"Mixed\",4)\n",
    "\n",
    "print(dog1 == dog2)"
   ]
  },
  {
   "cell_type": "markdown",
   "metadata": {},
   "source": [
    "## Inheritance & Method Overriding (recap)"
   ]
  },
  {
   "cell_type": "markdown",
   "metadata": {},
   "source": [
    "#### Inheriting (recap)"
   ]
  },
  {
   "cell_type": "code",
   "execution_count": 28,
   "metadata": {},
   "outputs": [
    {
     "name": "stdout",
     "output_type": "stream",
     "text": [
      "This is an Mammal\n",
      "Frank is part of the Mammal species\n"
     ]
    }
   ],
   "source": [
    "class Animal():\n",
    "    def __init__(self,species):\n",
    "        self.species = species\n",
    "        \n",
    "    def __str__(self):\n",
    "        return 'This is an {}'.format(self.species)\n",
    "    \n",
    "class Dog(Animal):\n",
    "    def __init__(self,species,name):\n",
    "        self.name = name\n",
    "        Animal.__init__(self,species)\n",
    "        \n",
    "    def __str__(self):\n",
    "        return \"{} is part of the {} species\".format(self.name, self.species)\n",
    "        \n",
    "mammal = Animal(\"Mammal\")\n",
    "dog = Dog(\"Mammal\", \"Frank\")\n",
    "print(mammal)\n",
    "print(dog)"
   ]
  },
  {
   "cell_type": "markdown",
   "metadata": {},
   "source": [
    "#### Overriding Inherited Magic Methods"
   ]
  },
  {
   "cell_type": "code",
   "execution_count": null,
   "metadata": {},
   "outputs": [],
   "source": [
    "# see above"
   ]
  },
  {
   "cell_type": "markdown",
   "metadata": {},
   "source": [
    "#### Inheriting Multiple Classes"
   ]
  },
  {
   "cell_type": "code",
   "execution_count": 37,
   "metadata": {},
   "outputs": [
    {
     "name": "stdout",
     "output_type": "stream",
     "text": [
      "Bobby is apart of the Canine species and run 30 mph\n"
     ]
    }
   ],
   "source": [
    "class Physics():\n",
    "    def __init__(self,speed):\n",
    "        self.gravity = 9.8\n",
    "        self.speed = speed\n",
    "        \n",
    "class Animal():\n",
    "    def __init__(self,species):\n",
    "        self.species = species\n",
    "        \n",
    "    def __str__(self):\n",
    "        return \"This is a {}\".format(self.species)\n",
    "    \n",
    "class Dog(Animal,Physics):\n",
    "    def __init__(self,species,name,speed):\n",
    "        self.name = name\n",
    "        Animal.__init__(self,species)\n",
    "        Physics.__init__(self, speed)\n",
    "        \n",
    "    def __str__(self):\n",
    "        return \"{} is apart of the {} species and run {} mph\". format(self.name,self.species,self.speed)\n",
    "    \n",
    "dog1 = Dog(\"Canine\", \"Bobby\", 30)\n",
    "\n",
    "print(dog1)\n",
    "        "
   ]
  },
  {
   "cell_type": "markdown",
   "metadata": {},
   "source": [
    "#### In-Class Exercise #3 - Create a transportation class, a physics class, and a bus class <br>\n",
    "<p>Create a transportation class, a physics class, and a bus class... Have the Bus class inherit both the transportation class and physics class. The physics class should have an attribute of speed, and print out the speed, plus have an acceleration method. The transportation class should have a 'type_of_transportation' attribute, and print the type(type_of_transportation [i.e road/air]) that is being used. The bus class should have attributes that describe the bus, such as; wheels, color, size, etc. Overwrite the __str__ method so that when you print the object, it prints out the bus information, and the speed.</p>"
   ]
  },
  {
   "cell_type": "code",
   "execution_count": 62,
   "metadata": {},
   "outputs": [
    {
     "name": "stdout",
     "output_type": "stream",
     "text": [
      "This is a beautiful Blue bus, has 4 wheels and, is traveling at 65 mph\n",
      "85\n"
     ]
    }
   ],
   "source": [
    "class Transportation():\n",
    "    def __init__(self,type_of_transportation):\n",
    "        self.type_of_transportation = type_of_transportation\n",
    "        \n",
    "class Physics():\n",
    "    def __init__(self,speed):\n",
    "        self.speed = speed\n",
    "        \n",
    "    def acceleration(self):\n",
    "        return self.speed + 20\n",
    "        \n",
    "    def printInfo(self,speed):\n",
    "        print(\"The bus is traveling at {}\".format(self.speed))\n",
    "        \n",
    "class Bus(Transportation,Physics):\n",
    "    def __init__(self,speed,color,type_of_transportation,wheels):\n",
    "        self.wheels = wheels\n",
    "        self.color = color\n",
    "        Transportation.__init__(self,type_of_transportation)\n",
    "        Physics.__init__(self,speed)\n",
    "        \n",
    "    def __str__(self):\n",
    "        return \"This is a beautiful {} bus, has {} wheels and, is traveling at {} mph\" .format(self.type_of_transportation,self.wheels,self.speed,self.color)\n",
    "    \n",
    "        \n",
    "bus1 = Bus(65,\"road\",\"Blue\", 4)\n",
    "print(bus1)\n",
    "print(bus1.acceleration())\n",
    "        \n",
    "    \n",
    "    \n"
   ]
  }
 ],
 "metadata": {
  "kernelspec": {
   "display_name": "Python 3",
   "language": "python",
   "name": "python3"
  },
  "language_info": {
   "codemirror_mode": {
    "name": "ipython",
    "version": 3
   },
   "file_extension": ".py",
   "mimetype": "text/x-python",
   "name": "python",
   "nbconvert_exporter": "python",
   "pygments_lexer": "ipython3",
   "version": "3.7.4"
  }
 },
 "nbformat": 4,
 "nbformat_minor": 2
}
